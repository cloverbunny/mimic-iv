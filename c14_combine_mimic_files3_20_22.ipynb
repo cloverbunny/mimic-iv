{
  "cells": [
    {
      "cell_type": "markdown",
      "metadata": {
        "id": "view-in-github",
        "colab_type": "text"
      },
      "source": [
        "<a href=\"https://colab.research.google.com/github/cloverbunny/mimic-iv/blob/master/c14_combine_mimic_files3_20_22.ipynb\" target=\"_parent\"><img src=\"https://colab.research.google.com/assets/colab-badge.svg\" alt=\"Open In Colab\"/></a>"
      ]
    },
    {
      "cell_type": "markdown",
      "metadata": {
        "id": "NCI19_Ix7xuI"
      },
      "source": [
        "## Cleaning mimic files so far into one notebook\n",
        "\n",
        "Notes from Notebook on how to run bigquery in colab - https://github.com/MIT-LCP/mimic-code/discussions/1154"
      ]
    },
    {
      "cell_type": "markdown",
      "source": [
        "# Setup"
      ],
      "metadata": {
        "id": "Ceuw1kVnbZfD"
      }
    },
    {
      "cell_type": "markdown",
      "metadata": {
        "id": "l_CmlcBu8Wei"
      },
      "source": [
        "Load libraries and connect to the data\n",
        "\n",
        "Run the following cells to import some libraries and then connect to the database."
      ]
    },
    {
      "cell_type": "code",
      "execution_count": 1,
      "metadata": {
        "id": "3WQsJiAj8B5L"
      },
      "outputs": [],
      "source": [
        "# Import libraries\n",
        "import numpy as np\n",
        "import os\n",
        "import pandas as pd\n",
        "import matplotlib.pyplot as plt\n",
        "import matplotlib.patches as patches\n",
        "import matplotlib.path as path\n",
        "\n",
        "# Make pandas dataframes prettier\n",
        "from IPython.display import display, HTML\n",
        "\n",
        "# Access data using Google BigQuery.\n",
        "from google.colab import auth\n",
        "from google.cloud import bigquery"
      ]
    },
    {
      "cell_type": "code",
      "execution_count": 11,
      "metadata": {
        "id": "ABh4hMt288yg"
      },
      "outputs": [],
      "source": [
        "auth.authenticate_user()"
      ]
    },
    {
      "cell_type": "code",
      "execution_count": 3,
      "metadata": {
        "id": "P0fdtVMa_di9"
      },
      "outputs": [],
      "source": [
        "project_id='prismatic-fact-272817'\n",
        "os.environ[\"GOOGLE_CLOUD_PROJECT\"]=project_id"
      ]
    },
    {
      "cell_type": "markdown",
      "source": [
        "# Getting intubated patients who stayed in MICU units (includes units that are MICU/SICU)\n",
        "\n",
        "[BigQuery syntax](https://googleapis.dev/python/bigquery/latest/magics.html)."
      ],
      "metadata": {
        "id": "2uHvra1obhb3"
      }
    },
    {
      "cell_type": "code",
      "execution_count": 43,
      "metadata": {
        "id": "RE-UZAPG_rHq"
      },
      "outputs": [],
      "source": [
        "%%bigquery vented\n",
        "\n",
        "select *\n",
        "from `physionet-data.mimic_derived.ventilation` v join  `physionet-data.mimic_icu.icustays` icus on v.stay_id = icus.stay_id\n",
        "where ventilation_status like 'InvasiveVent'\n",
        "AND\n",
        "  first_careunit LIKE '%MICU%'\n",
        "  AND last_careunit LIKE '%MICU%'\n"
      ]
    },
    {
      "cell_type": "code",
      "execution_count": 44,
      "metadata": {
        "id": "GZph0FPDASEs",
        "colab": {
          "base_uri": "https://localhost:8080/"
        },
        "outputId": "809ed0e8-045a-49b2-a626-93864679a471"
      },
      "outputs": [
        {
          "output_type": "execute_result",
          "data": {
            "text/plain": [
              "(10915, 12)"
            ]
          },
          "metadata": {},
          "execution_count": 44
        }
      ],
      "source": [
        "vented.shape"
      ]
    },
    {
      "cell_type": "code",
      "source": [
        "vented.head()"
      ],
      "metadata": {
        "colab": {
          "base_uri": "https://localhost:8080/",
          "height": 513
        },
        "id": "_6a00a5TeHj5",
        "outputId": "8cc83155-e089-40bf-ccbb-3aa6a410a25e"
      },
      "execution_count": 45,
      "outputs": [
        {
          "output_type": "execute_result",
          "data": {
            "text/plain": [
              "    stay_id           starttime             endtime ventilation_status  \\\n",
              "0  31326208 2135-06-20 23:18:00 2135-06-22 01:00:00       InvasiveVent   \n",
              "1  31004416 2120-02-09 11:00:00 2120-02-10 08:00:00       InvasiveVent   \n",
              "2  31004416 2120-02-24 03:00:00 2120-02-24 15:00:00       InvasiveVent   \n",
              "3  31004416 2120-02-12 15:00:00 2120-02-13 12:40:00       InvasiveVent   \n",
              "4  31004416 2120-02-06 21:39:00 2120-02-07 08:00:00       InvasiveVent   \n",
              "\n",
              "   subject_id   hadm_id  stay_id_1  \\\n",
              "0    19120385  23418362   31326208   \n",
              "1    13390728  26350081   31004416   \n",
              "2    13390728  26350081   31004416   \n",
              "3    13390728  26350081   31004416   \n",
              "4    13390728  26350081   31004416   \n",
              "\n",
              "                                     first_careunit  \\\n",
              "0                Medical Intensive Care Unit (MICU)   \n",
              "1  Medical/Surgical Intensive Care Unit (MICU/SICU)   \n",
              "2  Medical/Surgical Intensive Care Unit (MICU/SICU)   \n",
              "3  Medical/Surgical Intensive Care Unit (MICU/SICU)   \n",
              "4  Medical/Surgical Intensive Care Unit (MICU/SICU)   \n",
              "\n",
              "                                      last_careunit              intime  \\\n",
              "0                Medical Intensive Care Unit (MICU) 2135-06-20 23:00:00   \n",
              "1  Medical/Surgical Intensive Care Unit (MICU/SICU) 2120-02-06 20:55:28   \n",
              "2  Medical/Surgical Intensive Care Unit (MICU/SICU) 2120-02-06 20:55:28   \n",
              "3  Medical/Surgical Intensive Care Unit (MICU/SICU) 2120-02-06 20:55:28   \n",
              "4  Medical/Surgical Intensive Care Unit (MICU/SICU) 2120-02-06 20:55:28   \n",
              "\n",
              "              outtime        los  \n",
              "0 2135-06-22 06:02:12   1.293194  \n",
              "1 2120-02-29 21:46:04  23.035139  \n",
              "2 2120-02-29 21:46:04  23.035139  \n",
              "3 2120-02-29 21:46:04  23.035139  \n",
              "4 2120-02-29 21:46:04  23.035139  "
            ],
            "text/html": [
              "\n",
              "  <div id=\"df-922fb980-2c58-4e31-9392-7f70c409233f\">\n",
              "    <div class=\"colab-df-container\">\n",
              "      <div>\n",
              "<style scoped>\n",
              "    .dataframe tbody tr th:only-of-type {\n",
              "        vertical-align: middle;\n",
              "    }\n",
              "\n",
              "    .dataframe tbody tr th {\n",
              "        vertical-align: top;\n",
              "    }\n",
              "\n",
              "    .dataframe thead th {\n",
              "        text-align: right;\n",
              "    }\n",
              "</style>\n",
              "<table border=\"1\" class=\"dataframe\">\n",
              "  <thead>\n",
              "    <tr style=\"text-align: right;\">\n",
              "      <th></th>\n",
              "      <th>stay_id</th>\n",
              "      <th>starttime</th>\n",
              "      <th>endtime</th>\n",
              "      <th>ventilation_status</th>\n",
              "      <th>subject_id</th>\n",
              "      <th>hadm_id</th>\n",
              "      <th>stay_id_1</th>\n",
              "      <th>first_careunit</th>\n",
              "      <th>last_careunit</th>\n",
              "      <th>intime</th>\n",
              "      <th>outtime</th>\n",
              "      <th>los</th>\n",
              "    </tr>\n",
              "  </thead>\n",
              "  <tbody>\n",
              "    <tr>\n",
              "      <th>0</th>\n",
              "      <td>31326208</td>\n",
              "      <td>2135-06-20 23:18:00</td>\n",
              "      <td>2135-06-22 01:00:00</td>\n",
              "      <td>InvasiveVent</td>\n",
              "      <td>19120385</td>\n",
              "      <td>23418362</td>\n",
              "      <td>31326208</td>\n",
              "      <td>Medical Intensive Care Unit (MICU)</td>\n",
              "      <td>Medical Intensive Care Unit (MICU)</td>\n",
              "      <td>2135-06-20 23:00:00</td>\n",
              "      <td>2135-06-22 06:02:12</td>\n",
              "      <td>1.293194</td>\n",
              "    </tr>\n",
              "    <tr>\n",
              "      <th>1</th>\n",
              "      <td>31004416</td>\n",
              "      <td>2120-02-09 11:00:00</td>\n",
              "      <td>2120-02-10 08:00:00</td>\n",
              "      <td>InvasiveVent</td>\n",
              "      <td>13390728</td>\n",
              "      <td>26350081</td>\n",
              "      <td>31004416</td>\n",
              "      <td>Medical/Surgical Intensive Care Unit (MICU/SICU)</td>\n",
              "      <td>Medical/Surgical Intensive Care Unit (MICU/SICU)</td>\n",
              "      <td>2120-02-06 20:55:28</td>\n",
              "      <td>2120-02-29 21:46:04</td>\n",
              "      <td>23.035139</td>\n",
              "    </tr>\n",
              "    <tr>\n",
              "      <th>2</th>\n",
              "      <td>31004416</td>\n",
              "      <td>2120-02-24 03:00:00</td>\n",
              "      <td>2120-02-24 15:00:00</td>\n",
              "      <td>InvasiveVent</td>\n",
              "      <td>13390728</td>\n",
              "      <td>26350081</td>\n",
              "      <td>31004416</td>\n",
              "      <td>Medical/Surgical Intensive Care Unit (MICU/SICU)</td>\n",
              "      <td>Medical/Surgical Intensive Care Unit (MICU/SICU)</td>\n",
              "      <td>2120-02-06 20:55:28</td>\n",
              "      <td>2120-02-29 21:46:04</td>\n",
              "      <td>23.035139</td>\n",
              "    </tr>\n",
              "    <tr>\n",
              "      <th>3</th>\n",
              "      <td>31004416</td>\n",
              "      <td>2120-02-12 15:00:00</td>\n",
              "      <td>2120-02-13 12:40:00</td>\n",
              "      <td>InvasiveVent</td>\n",
              "      <td>13390728</td>\n",
              "      <td>26350081</td>\n",
              "      <td>31004416</td>\n",
              "      <td>Medical/Surgical Intensive Care Unit (MICU/SICU)</td>\n",
              "      <td>Medical/Surgical Intensive Care Unit (MICU/SICU)</td>\n",
              "      <td>2120-02-06 20:55:28</td>\n",
              "      <td>2120-02-29 21:46:04</td>\n",
              "      <td>23.035139</td>\n",
              "    </tr>\n",
              "    <tr>\n",
              "      <th>4</th>\n",
              "      <td>31004416</td>\n",
              "      <td>2120-02-06 21:39:00</td>\n",
              "      <td>2120-02-07 08:00:00</td>\n",
              "      <td>InvasiveVent</td>\n",
              "      <td>13390728</td>\n",
              "      <td>26350081</td>\n",
              "      <td>31004416</td>\n",
              "      <td>Medical/Surgical Intensive Care Unit (MICU/SICU)</td>\n",
              "      <td>Medical/Surgical Intensive Care Unit (MICU/SICU)</td>\n",
              "      <td>2120-02-06 20:55:28</td>\n",
              "      <td>2120-02-29 21:46:04</td>\n",
              "      <td>23.035139</td>\n",
              "    </tr>\n",
              "  </tbody>\n",
              "</table>\n",
              "</div>\n",
              "      <button class=\"colab-df-convert\" onclick=\"convertToInteractive('df-922fb980-2c58-4e31-9392-7f70c409233f')\"\n",
              "              title=\"Convert this dataframe to an interactive table.\"\n",
              "              style=\"display:none;\">\n",
              "        \n",
              "  <svg xmlns=\"http://www.w3.org/2000/svg\" height=\"24px\"viewBox=\"0 0 24 24\"\n",
              "       width=\"24px\">\n",
              "    <path d=\"M0 0h24v24H0V0z\" fill=\"none\"/>\n",
              "    <path d=\"M18.56 5.44l.94 2.06.94-2.06 2.06-.94-2.06-.94-.94-2.06-.94 2.06-2.06.94zm-11 1L8.5 8.5l.94-2.06 2.06-.94-2.06-.94L8.5 2.5l-.94 2.06-2.06.94zm10 10l.94 2.06.94-2.06 2.06-.94-2.06-.94-.94-2.06-.94 2.06-2.06.94z\"/><path d=\"M17.41 7.96l-1.37-1.37c-.4-.4-.92-.59-1.43-.59-.52 0-1.04.2-1.43.59L10.3 9.45l-7.72 7.72c-.78.78-.78 2.05 0 2.83L4 21.41c.39.39.9.59 1.41.59.51 0 1.02-.2 1.41-.59l7.78-7.78 2.81-2.81c.8-.78.8-2.07 0-2.86zM5.41 20L4 18.59l7.72-7.72 1.47 1.35L5.41 20z\"/>\n",
              "  </svg>\n",
              "      </button>\n",
              "      \n",
              "  <style>\n",
              "    .colab-df-container {\n",
              "      display:flex;\n",
              "      flex-wrap:wrap;\n",
              "      gap: 12px;\n",
              "    }\n",
              "\n",
              "    .colab-df-convert {\n",
              "      background-color: #E8F0FE;\n",
              "      border: none;\n",
              "      border-radius: 50%;\n",
              "      cursor: pointer;\n",
              "      display: none;\n",
              "      fill: #1967D2;\n",
              "      height: 32px;\n",
              "      padding: 0 0 0 0;\n",
              "      width: 32px;\n",
              "    }\n",
              "\n",
              "    .colab-df-convert:hover {\n",
              "      background-color: #E2EBFA;\n",
              "      box-shadow: 0px 1px 2px rgba(60, 64, 67, 0.3), 0px 1px 3px 1px rgba(60, 64, 67, 0.15);\n",
              "      fill: #174EA6;\n",
              "    }\n",
              "\n",
              "    [theme=dark] .colab-df-convert {\n",
              "      background-color: #3B4455;\n",
              "      fill: #D2E3FC;\n",
              "    }\n",
              "\n",
              "    [theme=dark] .colab-df-convert:hover {\n",
              "      background-color: #434B5C;\n",
              "      box-shadow: 0px 1px 3px 1px rgba(0, 0, 0, 0.15);\n",
              "      filter: drop-shadow(0px 1px 2px rgba(0, 0, 0, 0.3));\n",
              "      fill: #FFFFFF;\n",
              "    }\n",
              "  </style>\n",
              "\n",
              "      <script>\n",
              "        const buttonEl =\n",
              "          document.querySelector('#df-922fb980-2c58-4e31-9392-7f70c409233f button.colab-df-convert');\n",
              "        buttonEl.style.display =\n",
              "          google.colab.kernel.accessAllowed ? 'block' : 'none';\n",
              "\n",
              "        async function convertToInteractive(key) {\n",
              "          const element = document.querySelector('#df-922fb980-2c58-4e31-9392-7f70c409233f');\n",
              "          const dataTable =\n",
              "            await google.colab.kernel.invokeFunction('convertToInteractive',\n",
              "                                                     [key], {});\n",
              "          if (!dataTable) return;\n",
              "\n",
              "          const docLinkHtml = 'Like what you see? Visit the ' +\n",
              "            '<a target=\"_blank\" href=https://colab.research.google.com/notebooks/data_table.ipynb>data table notebook</a>'\n",
              "            + ' to learn more about interactive tables.';\n",
              "          element.innerHTML = '';\n",
              "          dataTable['output_type'] = 'display_data';\n",
              "          await google.colab.output.renderOutput(dataTable, element);\n",
              "          const docLink = document.createElement('div');\n",
              "          docLink.innerHTML = docLinkHtml;\n",
              "          element.appendChild(docLink);\n",
              "        }\n",
              "      </script>\n",
              "    </div>\n",
              "  </div>\n",
              "  "
            ]
          },
          "metadata": {},
          "execution_count": 45
        }
      ]
    },
    {
      "cell_type": "code",
      "source": [
        "vented_unique = vented.drop_duplicates(subset=[\"hadm_id\"])"
      ],
      "metadata": {
        "id": "DTE-bSjHaMYS"
      },
      "execution_count": 48,
      "outputs": []
    },
    {
      "cell_type": "code",
      "source": [
        "vented_unique.shape"
      ],
      "metadata": {
        "colab": {
          "base_uri": "https://localhost:8080/"
        },
        "id": "5oiuoK2xaSxi",
        "outputId": "d7610c16-9a0b-46ce-d8f8-a8b3cb776a56"
      },
      "execution_count": 49,
      "outputs": [
        {
          "output_type": "execute_result",
          "data": {
            "text/plain": [
              "(7042, 12)"
            ]
          },
          "metadata": {},
          "execution_count": 49
        }
      ]
    },
    {
      "cell_type": "markdown",
      "metadata": {
        "id": "TlxaXLevC_Rz"
      },
      "source": [
        "## Getting pneumonia patients"
      ]
    },
    {
      "cell_type": "code",
      "source": [
        "%%bigquery pneumonia\n",
        "\n",
        "SELECT *\n",
        "from `physionet-data.mimic_hosp.diagnoses_icd` dx\n",
        "join `physionet-data.mimic_hosp.d_icd_diagnoses` icd\n",
        "    on dx.icd_code=icd.icd_code\n",
        "where icd.long_title LIKE '%pneumonia%'"
      ],
      "metadata": {
        "id": "kP-MkRE1b3bW"
      },
      "execution_count": 27,
      "outputs": []
    },
    {
      "cell_type": "code",
      "source": [
        "pneumonia.head()"
      ],
      "metadata": {
        "colab": {
          "base_uri": "https://localhost:8080/",
          "height": 250
        },
        "id": "3PHvLXLCcSSf",
        "outputId": "5a699389-9918-42b1-c606-63ea7f119fac"
      },
      "execution_count": 28,
      "outputs": [
        {
          "output_type": "execute_result",
          "data": {
            "text/plain": [
              "   subject_id   hadm_id  seq_num icd_code  icd_version icd_code_1  \\\n",
              "0    17967970  21746242       31     B953           10       B953   \n",
              "1    18622276  20636275       25     B953           10       B953   \n",
              "2    13610988  25620263       31    J1289           10      J1289   \n",
              "3    10011849  20188892       36     B953           10       B953   \n",
              "4    12227782  29222288        1    48249            9      48249   \n",
              "\n",
              "   icd_version_1                                         long_title  \n",
              "0             10  Streptococcus pneumoniae as the cause of disea...  \n",
              "1             10  Streptococcus pneumoniae as the cause of disea...  \n",
              "2             10                              Other viral pneumonia  \n",
              "3             10  Streptococcus pneumoniae as the cause of disea...  \n",
              "4              9                     Other Staphylococcus pneumonia  "
            ],
            "text/html": [
              "\n",
              "  <div id=\"df-fd800b51-ae1b-49fd-ac8d-70a9a6001207\">\n",
              "    <div class=\"colab-df-container\">\n",
              "      <div>\n",
              "<style scoped>\n",
              "    .dataframe tbody tr th:only-of-type {\n",
              "        vertical-align: middle;\n",
              "    }\n",
              "\n",
              "    .dataframe tbody tr th {\n",
              "        vertical-align: top;\n",
              "    }\n",
              "\n",
              "    .dataframe thead th {\n",
              "        text-align: right;\n",
              "    }\n",
              "</style>\n",
              "<table border=\"1\" class=\"dataframe\">\n",
              "  <thead>\n",
              "    <tr style=\"text-align: right;\">\n",
              "      <th></th>\n",
              "      <th>subject_id</th>\n",
              "      <th>hadm_id</th>\n",
              "      <th>seq_num</th>\n",
              "      <th>icd_code</th>\n",
              "      <th>icd_version</th>\n",
              "      <th>icd_code_1</th>\n",
              "      <th>icd_version_1</th>\n",
              "      <th>long_title</th>\n",
              "    </tr>\n",
              "  </thead>\n",
              "  <tbody>\n",
              "    <tr>\n",
              "      <th>0</th>\n",
              "      <td>17967970</td>\n",
              "      <td>21746242</td>\n",
              "      <td>31</td>\n",
              "      <td>B953</td>\n",
              "      <td>10</td>\n",
              "      <td>B953</td>\n",
              "      <td>10</td>\n",
              "      <td>Streptococcus pneumoniae as the cause of disea...</td>\n",
              "    </tr>\n",
              "    <tr>\n",
              "      <th>1</th>\n",
              "      <td>18622276</td>\n",
              "      <td>20636275</td>\n",
              "      <td>25</td>\n",
              "      <td>B953</td>\n",
              "      <td>10</td>\n",
              "      <td>B953</td>\n",
              "      <td>10</td>\n",
              "      <td>Streptococcus pneumoniae as the cause of disea...</td>\n",
              "    </tr>\n",
              "    <tr>\n",
              "      <th>2</th>\n",
              "      <td>13610988</td>\n",
              "      <td>25620263</td>\n",
              "      <td>31</td>\n",
              "      <td>J1289</td>\n",
              "      <td>10</td>\n",
              "      <td>J1289</td>\n",
              "      <td>10</td>\n",
              "      <td>Other viral pneumonia</td>\n",
              "    </tr>\n",
              "    <tr>\n",
              "      <th>3</th>\n",
              "      <td>10011849</td>\n",
              "      <td>20188892</td>\n",
              "      <td>36</td>\n",
              "      <td>B953</td>\n",
              "      <td>10</td>\n",
              "      <td>B953</td>\n",
              "      <td>10</td>\n",
              "      <td>Streptococcus pneumoniae as the cause of disea...</td>\n",
              "    </tr>\n",
              "    <tr>\n",
              "      <th>4</th>\n",
              "      <td>12227782</td>\n",
              "      <td>29222288</td>\n",
              "      <td>1</td>\n",
              "      <td>48249</td>\n",
              "      <td>9</td>\n",
              "      <td>48249</td>\n",
              "      <td>9</td>\n",
              "      <td>Other Staphylococcus pneumonia</td>\n",
              "    </tr>\n",
              "  </tbody>\n",
              "</table>\n",
              "</div>\n",
              "      <button class=\"colab-df-convert\" onclick=\"convertToInteractive('df-fd800b51-ae1b-49fd-ac8d-70a9a6001207')\"\n",
              "              title=\"Convert this dataframe to an interactive table.\"\n",
              "              style=\"display:none;\">\n",
              "        \n",
              "  <svg xmlns=\"http://www.w3.org/2000/svg\" height=\"24px\"viewBox=\"0 0 24 24\"\n",
              "       width=\"24px\">\n",
              "    <path d=\"M0 0h24v24H0V0z\" fill=\"none\"/>\n",
              "    <path d=\"M18.56 5.44l.94 2.06.94-2.06 2.06-.94-2.06-.94-.94-2.06-.94 2.06-2.06.94zm-11 1L8.5 8.5l.94-2.06 2.06-.94-2.06-.94L8.5 2.5l-.94 2.06-2.06.94zm10 10l.94 2.06.94-2.06 2.06-.94-2.06-.94-.94-2.06-.94 2.06-2.06.94z\"/><path d=\"M17.41 7.96l-1.37-1.37c-.4-.4-.92-.59-1.43-.59-.52 0-1.04.2-1.43.59L10.3 9.45l-7.72 7.72c-.78.78-.78 2.05 0 2.83L4 21.41c.39.39.9.59 1.41.59.51 0 1.02-.2 1.41-.59l7.78-7.78 2.81-2.81c.8-.78.8-2.07 0-2.86zM5.41 20L4 18.59l7.72-7.72 1.47 1.35L5.41 20z\"/>\n",
              "  </svg>\n",
              "      </button>\n",
              "      \n",
              "  <style>\n",
              "    .colab-df-container {\n",
              "      display:flex;\n",
              "      flex-wrap:wrap;\n",
              "      gap: 12px;\n",
              "    }\n",
              "\n",
              "    .colab-df-convert {\n",
              "      background-color: #E8F0FE;\n",
              "      border: none;\n",
              "      border-radius: 50%;\n",
              "      cursor: pointer;\n",
              "      display: none;\n",
              "      fill: #1967D2;\n",
              "      height: 32px;\n",
              "      padding: 0 0 0 0;\n",
              "      width: 32px;\n",
              "    }\n",
              "\n",
              "    .colab-df-convert:hover {\n",
              "      background-color: #E2EBFA;\n",
              "      box-shadow: 0px 1px 2px rgba(60, 64, 67, 0.3), 0px 1px 3px 1px rgba(60, 64, 67, 0.15);\n",
              "      fill: #174EA6;\n",
              "    }\n",
              "\n",
              "    [theme=dark] .colab-df-convert {\n",
              "      background-color: #3B4455;\n",
              "      fill: #D2E3FC;\n",
              "    }\n",
              "\n",
              "    [theme=dark] .colab-df-convert:hover {\n",
              "      background-color: #434B5C;\n",
              "      box-shadow: 0px 1px 3px 1px rgba(0, 0, 0, 0.15);\n",
              "      filter: drop-shadow(0px 1px 2px rgba(0, 0, 0, 0.3));\n",
              "      fill: #FFFFFF;\n",
              "    }\n",
              "  </style>\n",
              "\n",
              "      <script>\n",
              "        const buttonEl =\n",
              "          document.querySelector('#df-fd800b51-ae1b-49fd-ac8d-70a9a6001207 button.colab-df-convert');\n",
              "        buttonEl.style.display =\n",
              "          google.colab.kernel.accessAllowed ? 'block' : 'none';\n",
              "\n",
              "        async function convertToInteractive(key) {\n",
              "          const element = document.querySelector('#df-fd800b51-ae1b-49fd-ac8d-70a9a6001207');\n",
              "          const dataTable =\n",
              "            await google.colab.kernel.invokeFunction('convertToInteractive',\n",
              "                                                     [key], {});\n",
              "          if (!dataTable) return;\n",
              "\n",
              "          const docLinkHtml = 'Like what you see? Visit the ' +\n",
              "            '<a target=\"_blank\" href=https://colab.research.google.com/notebooks/data_table.ipynb>data table notebook</a>'\n",
              "            + ' to learn more about interactive tables.';\n",
              "          element.innerHTML = '';\n",
              "          dataTable['output_type'] = 'display_data';\n",
              "          await google.colab.output.renderOutput(dataTable, element);\n",
              "          const docLink = document.createElement('div');\n",
              "          docLink.innerHTML = docLinkHtml;\n",
              "          element.appendChild(docLink);\n",
              "        }\n",
              "      </script>\n",
              "    </div>\n",
              "  </div>\n",
              "  "
            ]
          },
          "metadata": {},
          "execution_count": 28
        }
      ]
    },
    {
      "cell_type": "code",
      "source": [
        "pneumonia.shape"
      ],
      "metadata": {
        "colab": {
          "base_uri": "https://localhost:8080/"
        },
        "id": "ce4o4cQQcVBB",
        "outputId": "383a8bcc-ae59-4391-c208-40a6f6a83a65"
      },
      "execution_count": 29,
      "outputs": [
        {
          "output_type": "execute_result",
          "data": {
            "text/plain": [
              "(10673, 8)"
            ]
          },
          "metadata": {},
          "execution_count": 29
        }
      ]
    },
    {
      "cell_type": "code",
      "source": [
        "len(pneumonia.subject_id.unique())"
      ],
      "metadata": {
        "colab": {
          "base_uri": "https://localhost:8080/"
        },
        "id": "9U06PI8FchJC",
        "outputId": "5ec6c4ba-882b-440d-80f3-34bba81b4932"
      },
      "execution_count": 30,
      "outputs": [
        {
          "output_type": "execute_result",
          "data": {
            "text/plain": [
              "8584"
            ]
          },
          "metadata": {},
          "execution_count": 30
        }
      ]
    },
    {
      "cell_type": "code",
      "source": [
        "len(pneumonia.hadm_id.unique())"
      ],
      "metadata": {
        "colab": {
          "base_uri": "https://localhost:8080/"
        },
        "id": "6oNqj5vXciXR",
        "outputId": "99c5c583-bfe0-407d-8ff9-554144c2e87f"
      },
      "execution_count": 31,
      "outputs": [
        {
          "output_type": "execute_result",
          "data": {
            "text/plain": [
              "9999"
            ]
          },
          "metadata": {},
          "execution_count": 31
        }
      ]
    },
    {
      "cell_type": "code",
      "source": [
        "pneumonia.long_title.value_counts()"
      ],
      "metadata": {
        "colab": {
          "base_uri": "https://localhost:8080/"
        },
        "id": "wXc1Ib8Ucxmi",
        "outputId": "336f32a4-d272-430c-f464-2c8b99422bd3"
      },
      "execution_count": 34,
      "outputs": [
        {
          "output_type": "execute_result",
          "data": {
            "text/plain": [
              "Ventilator associated pneumonia                                                                                           1723\n",
              "Klebsiella pneumoniae [K. pneumoniae] as the cause of diseases classified elsewhere                                       1425\n",
              "Personal history of pneumonia (recurrent)                                                                                 1208\n",
              "Bacterial pneumonia, unspecified                                                                                          1093\n",
              "Other specified vaccinations against streptococcus pneumoniae [pneumococcus]                                              1007\n",
              "Unspecified bacterial pneumonia                                                                                            716\n",
              "Methicillin resistant pneumonia due to Staphylococcus aureus                                                               346\n",
              "Methicillin susceptible pneumonia due to Staphylococcus aureus                                                             341\n",
              "Need for prophylactic vaccination and inoculation against streptococcus pneumoniae [pneumococcus] and influenza            338\n",
              "Pneumonia due to Klebsiella pneumoniae                                                                                     276\n",
              "Influenza with pneumonia                                                                                                   223\n",
              "Other pneumonia, unspecified organism                                                                                      200\n",
              "Pneumococcal pneumonia [Streptococcus pneumoniae pneumonia]                                                                188\n",
              "Viral pneumonia, unspecified                                                                                               159\n",
              "Cryptogenic organizing pneumonia                                                                                           125\n",
              "Lobar pneumonia, unspecified organism                                                                                      124\n",
              "Pneumonia due to Streptococcus pneumoniae                                                                                  123\n",
              "Pneumococcal septicemia [Streptococcus pneumoniae septicemia]                                                              107\n",
              "Influenza due to unidentified influenza virus with unspecified type of pneumonia                                            94\n",
              "Influenza due to other identified influenza virus with other specified pneumonia                                            91\n",
              "Influenza due to other identified influenza virus with unspecified type of pneumonia                                        88\n",
              "Postprocedural aspiration pneumonia                                                                                         73\n",
              "Abscess of lung with pneumonia                                                                                              64\n",
              "Influenza due to identified novel influenza A virus with pneumonia                                                          55\n",
              "Sepsis due to Streptococcus pneumoniae                                                                                      53\n",
              "Bronchopneumonia, organism unspecified                                                                                      52\n",
              "Streptococcus pneumoniae as the cause of diseases classified elsewhere                                                      40\n",
              "Influenza due to unidentified influenza virus with specified pneumonia                                                      39\n",
              "Congenital pneumonia                                                                                                        38\n",
              "Abscess of lung without pneumonia                                                                                           32\n",
              "Respiratory syncytial virus pneumonia                                                                                       29\n",
              "Bronchopneumonia, unspecified organism                                                                                      26\n",
              "Parainfluenza virus pneumonia                                                                                               23\n",
              "Other viral pneumonia                                                                                                       18\n",
              "Pneumonia due to mycoplasma pneumoniae                                                                                      18\n",
              "Other Staphylococcus pneumonia                                                                                              17\n",
              "Influenza due to other identified influenza virus with the same other identified influenza virus pneumonia                  14\n",
              "Influenza due to identified avian influenza virus with pneumonia                                                            12\n",
              "Congenital pneumonia, unspecified                                                                                           10\n",
              "Mycoplasma pneumoniae [M. pneumoniae] as the cause of diseases classified elsewhere                                          9\n",
              "Pneumonia due to Mycoplasma pneumoniae                                                                                       8\n",
              "Congenital pneumonia due to staphylococcus                                                                                   7\n",
              "Idiopathic interstitial pneumonia, not otherwise specified                                                                   6\n",
              "Congenital pneumonia due to other bacterial agents                                                                           5\n",
              "Desquamative interstitial pneumonia                                                                                          4\n",
              "Human metapneumovirus pneumonia                                                                                              3\n",
              "Congenital pneumonia due to Escherichia coli                                                                                 3\n",
              "Adenoviral pneumonia                                                                                                         3\n",
              "Tuberculous pneumonia [any form], tubercle bacilli found (in sputum) by microscopy                                           2\n",
              "Whooping cough, unspecified species without pneumonia                                                                        2\n",
              "Infection by Histoplasma capsulatum, pneumonia                                                                               2\n",
              "Varicella pneumonia                                                                                                          1\n",
              "Congenital pneumonia due to streptococcus, group B                                                                           1\n",
              "Lymphoid interstitial pneumonia                                                                                              1\n",
              "Congenital pneumonia due to viral agent                                                                                      1\n",
              "Hypostatic pneumonia, unspecified organism                                                                                   1\n",
              "Congenital pneumonia due to Pseudomonas                                                                                      1\n",
              "Salmonella pneumonia                                                                                                         1\n",
              "Idiopathic lymphoid interstitial pneumonia                                                                                   1\n",
              "Tuberculous pneumonia [any form], unspecified                                                                                1\n",
              "Influenza due to identified 2009 H1N1 influenza virus with pneumonia                                                         1\n",
              "Tuberculous pneumonia [any form], tubercle bacilli not found (in sputum) by microscopy, but found by bacterial culture       1\n",
              "Name: long_title, dtype: int64"
            ]
          },
          "metadata": {},
          "execution_count": 34
        }
      ]
    },
    {
      "cell_type": "code",
      "source": [
        "pd.set_option(\"display.max_rows\", None)"
      ],
      "metadata": {
        "id": "OB-nuk1Mc-lu"
      },
      "execution_count": 33,
      "outputs": []
    },
    {
      "cell_type": "code",
      "source": [
        "names_to_remove = [\n",
        "    'Other specified vaccinations against streptococcus pneumoniae [pneumococcus]',\n",
        "    'Need for prophylactic vaccination and inoculation against streptococcus pneumoniae [pneumococcus] and influenza',\n",
        "    'Cryptogenic organizing pneumonia',\n",
        "    'Congenital pneumonia',\n",
        "    'Abscess of lung without pneumonia',    \n",
        "    'Congenital pneumonia, unspecified',\n",
        "    'Congenital pneumonia due to staphylococcus',\n",
        "    'Idiopathic interstitial pneumonia, not otherwise specified',\n",
        "    'Congenital pneumonia due to other bacterial agents',\n",
        "    'Desquamative interstitial pneumonia',\n",
        "    'Congenital pneumonia due to Escherichia coli',\n",
        "    'Infection by Histoplasma capsulatum, pneumonia',\n",
        "    'Tuberculous pneumonia [any form], tubercle bacilli found (in sputum) by microscopy',\n",
        "    'Whooping cough, unspecified species without pneumonia',\n",
        "    'Congenital pneumonia due to Pseudomonas',\n",
        "    'Congenital pneumonia due to viral agent',\n",
        "    'Hypostatic pneumonia, unspecified organism',\n",
        "    'Lymphoid interstitial pneumonia',\n",
        "    'Congenital pneumonia due to streptococcus, group B',\n",
        "    'Tuberculous pneumonia [any form], tubercle bacilli not found (in sputum) by microscopy, but found by bacterial culture',\n",
        "    'Tuberculous pneumonia [any form], unspecified',  \n",
        "    'Idiopathic lymphoid interstitial pneumonia'  \n",
        "]"
      ],
      "metadata": {
        "id": "LrX_XaMedJIm"
      },
      "execution_count": 35,
      "outputs": []
    },
    {
      "cell_type": "code",
      "source": [
        "pneumonia_clean= pneumonia[~pneumonia['long_title'].isin(names_to_remove)]"
      ],
      "metadata": {
        "id": "3ImymD6YdJLb"
      },
      "execution_count": 36,
      "outputs": []
    },
    {
      "cell_type": "code",
      "source": [
        "pneumonia_clean.long_title.value_counts()"
      ],
      "metadata": {
        "colab": {
          "base_uri": "https://localhost:8080/"
        },
        "id": "7KKnCQC9dJOD",
        "outputId": "74b035f7-72ea-4488-cf90-5b8c698dfdd4"
      },
      "execution_count": 37,
      "outputs": [
        {
          "output_type": "execute_result",
          "data": {
            "text/plain": [
              "Ventilator associated pneumonia                                                                               1723\n",
              "Klebsiella pneumoniae [K. pneumoniae] as the cause of diseases classified elsewhere                           1425\n",
              "Personal history of pneumonia (recurrent)                                                                     1208\n",
              "Bacterial pneumonia, unspecified                                                                              1093\n",
              "Unspecified bacterial pneumonia                                                                                716\n",
              "Methicillin resistant pneumonia due to Staphylococcus aureus                                                   346\n",
              "Methicillin susceptible pneumonia due to Staphylococcus aureus                                                 341\n",
              "Pneumonia due to Klebsiella pneumoniae                                                                         276\n",
              "Influenza with pneumonia                                                                                       223\n",
              "Other pneumonia, unspecified organism                                                                          200\n",
              "Pneumococcal pneumonia [Streptococcus pneumoniae pneumonia]                                                    188\n",
              "Viral pneumonia, unspecified                                                                                   159\n",
              "Lobar pneumonia, unspecified organism                                                                          124\n",
              "Pneumonia due to Streptococcus pneumoniae                                                                      123\n",
              "Pneumococcal septicemia [Streptococcus pneumoniae septicemia]                                                  107\n",
              "Influenza due to unidentified influenza virus with unspecified type of pneumonia                                94\n",
              "Influenza due to other identified influenza virus with other specified pneumonia                                91\n",
              "Influenza due to other identified influenza virus with unspecified type of pneumonia                            88\n",
              "Postprocedural aspiration pneumonia                                                                             73\n",
              "Abscess of lung with pneumonia                                                                                  64\n",
              "Influenza due to identified novel influenza A virus with pneumonia                                              55\n",
              "Sepsis due to Streptococcus pneumoniae                                                                          53\n",
              "Bronchopneumonia, organism unspecified                                                                          52\n",
              "Streptococcus pneumoniae as the cause of diseases classified elsewhere                                          40\n",
              "Influenza due to unidentified influenza virus with specified pneumonia                                          39\n",
              "Respiratory syncytial virus pneumonia                                                                           29\n",
              "Bronchopneumonia, unspecified organism                                                                          26\n",
              "Parainfluenza virus pneumonia                                                                                   23\n",
              "Pneumonia due to mycoplasma pneumoniae                                                                          18\n",
              "Other viral pneumonia                                                                                           18\n",
              "Other Staphylococcus pneumonia                                                                                  17\n",
              "Influenza due to other identified influenza virus with the same other identified influenza virus pneumonia      14\n",
              "Influenza due to identified avian influenza virus with pneumonia                                                12\n",
              "Mycoplasma pneumoniae [M. pneumoniae] as the cause of diseases classified elsewhere                              9\n",
              "Pneumonia due to Mycoplasma pneumoniae                                                                           8\n",
              "Adenoviral pneumonia                                                                                             3\n",
              "Human metapneumovirus pneumonia                                                                                  3\n",
              "Salmonella pneumonia                                                                                             1\n",
              "Influenza due to identified 2009 H1N1 influenza virus with pneumonia                                             1\n",
              "Varicella pneumonia                                                                                              1\n",
              "Name: long_title, dtype: int64"
            ]
          },
          "metadata": {},
          "execution_count": 37
        }
      ]
    },
    {
      "cell_type": "code",
      "source": [
        "pneumonia_clean.shape"
      ],
      "metadata": {
        "colab": {
          "base_uri": "https://localhost:8080/"
        },
        "id": "HMT0y5-ed8uo",
        "outputId": "9bffd198-ba22-4613-d49b-e444488dce06"
      },
      "execution_count": 41,
      "outputs": [
        {
          "output_type": "execute_result",
          "data": {
            "text/plain": [
              "(9084, 8)"
            ]
          },
          "metadata": {},
          "execution_count": 41
        }
      ]
    },
    {
      "cell_type": "code",
      "source": [
        "len(pneumonia_clean.hadm_id.unique())"
      ],
      "metadata": {
        "colab": {
          "base_uri": "https://localhost:8080/"
        },
        "id": "SlpULBcRdJTF",
        "outputId": "cfe9109f-0af8-49df-e0f4-bcddc4c862e1"
      },
      "execution_count": 38,
      "outputs": [
        {
          "output_type": "execute_result",
          "data": {
            "text/plain": [
              "8459"
            ]
          },
          "metadata": {},
          "execution_count": 38
        }
      ]
    },
    {
      "cell_type": "code",
      "source": [
        "pneumonia_short = pneumonia_clean.drop_duplicates(subset=[\"hadm_id\"])"
      ],
      "metadata": {
        "id": "tbEqulkpdJVl"
      },
      "execution_count": 39,
      "outputs": []
    },
    {
      "cell_type": "code",
      "source": [
        "pneumonia_short.shape"
      ],
      "metadata": {
        "colab": {
          "base_uri": "https://localhost:8080/"
        },
        "id": "M57NTGNCdJYK",
        "outputId": "e914c042-78ef-4a8b-a938-0b1eca35a95d"
      },
      "execution_count": 40,
      "outputs": [
        {
          "output_type": "execute_result",
          "data": {
            "text/plain": [
              "(8459, 8)"
            ]
          },
          "metadata": {},
          "execution_count": 40
        }
      ]
    },
    {
      "cell_type": "markdown",
      "source": [
        "# Merging pneumonia and vented MICU patients"
      ],
      "metadata": {
        "id": "NaeYbntSe007"
      }
    },
    {
      "cell_type": "code",
      "source": [
        "micuventpneumonia = vented_unique.merge(pneumonia_short, how='inner', on='hadm_id', indicator=True)"
      ],
      "metadata": {
        "id": "MxuWshyBe3Mi"
      },
      "execution_count": 50,
      "outputs": []
    },
    {
      "cell_type": "code",
      "source": [
        "micuventpneumonia.head()"
      ],
      "metadata": {
        "colab": {
          "base_uri": "https://localhost:8080/",
          "height": 513
        },
        "id": "VYaFXlP3e3Pv",
        "outputId": "b97f8f01-fc04-480b-dd5e-43ed4fb72fa4"
      },
      "execution_count": 51,
      "outputs": [
        {
          "output_type": "execute_result",
          "data": {
            "text/plain": [
              "    stay_id           starttime             endtime ventilation_status  \\\n",
              "0  31004416 2120-02-09 11:00:00 2120-02-10 08:00:00       InvasiveVent   \n",
              "1  39008512 2136-09-14 21:00:00 2136-09-15 00:00:00       InvasiveVent   \n",
              "2  31813120 2151-05-25 14:00:00 2151-05-26 16:45:00       InvasiveVent   \n",
              "3  32863488 2171-06-04 10:00:00 2171-06-11 13:00:00       InvasiveVent   \n",
              "4  35174400 2166-03-15 10:00:00 2166-03-19 07:00:00       InvasiveVent   \n",
              "\n",
              "   subject_id_x   hadm_id  stay_id_1  \\\n",
              "0      13390728  26350081   31004416   \n",
              "1      17521905  29059095   39008512   \n",
              "2      18081075  28510423   31813120   \n",
              "3      17914766  24743178   32863488   \n",
              "4      13870531  23854031   35174400   \n",
              "\n",
              "                                     first_careunit  \\\n",
              "0  Medical/Surgical Intensive Care Unit (MICU/SICU)   \n",
              "1  Medical/Surgical Intensive Care Unit (MICU/SICU)   \n",
              "2                Medical Intensive Care Unit (MICU)   \n",
              "3                Medical Intensive Care Unit (MICU)   \n",
              "4  Medical/Surgical Intensive Care Unit (MICU/SICU)   \n",
              "\n",
              "                                      last_careunit              intime  \\\n",
              "0  Medical/Surgical Intensive Care Unit (MICU/SICU) 2120-02-06 20:55:28   \n",
              "1  Medical/Surgical Intensive Care Unit (MICU/SICU) 2136-09-02 15:09:45   \n",
              "2                Medical Intensive Care Unit (MICU) 2151-05-25 14:13:00   \n",
              "3                Medical Intensive Care Unit (MICU) 2171-06-04 10:32:22   \n",
              "4  Medical/Surgical Intensive Care Unit (MICU/SICU) 2166-03-10 19:01:30   \n",
              "\n",
              "              outtime        los  subject_id_y  seq_num icd_code  icd_version  \\\n",
              "0 2120-02-29 21:46:04  23.035139      13390728        8     J181           10   \n",
              "1 2136-09-23 21:30:42  21.264549      17521905        8   J95851           10   \n",
              "2 2151-06-07 14:32:42  13.013681      18081075        1    J1000           10   \n",
              "3 2171-06-17 22:30:20  13.498588      17914766        7   J95851           10   \n",
              "4 2166-03-29 18:25:59  18.975336      13870531        5     4870            9   \n",
              "\n",
              "  icd_code_1  icd_version_1  \\\n",
              "0       J181             10   \n",
              "1     J95851             10   \n",
              "2      J1000             10   \n",
              "3     J95851             10   \n",
              "4       4870              9   \n",
              "\n",
              "                                          long_title _merge  \n",
              "0              Lobar pneumonia, unspecified organism   both  \n",
              "1                    Ventilator associated pneumonia   both  \n",
              "2  Influenza due to other identified influenza vi...   both  \n",
              "3                    Ventilator associated pneumonia   both  \n",
              "4                           Influenza with pneumonia   both  "
            ],
            "text/html": [
              "\n",
              "  <div id=\"df-b28505e3-d576-472f-afc7-b93123e5771d\">\n",
              "    <div class=\"colab-df-container\">\n",
              "      <div>\n",
              "<style scoped>\n",
              "    .dataframe tbody tr th:only-of-type {\n",
              "        vertical-align: middle;\n",
              "    }\n",
              "\n",
              "    .dataframe tbody tr th {\n",
              "        vertical-align: top;\n",
              "    }\n",
              "\n",
              "    .dataframe thead th {\n",
              "        text-align: right;\n",
              "    }\n",
              "</style>\n",
              "<table border=\"1\" class=\"dataframe\">\n",
              "  <thead>\n",
              "    <tr style=\"text-align: right;\">\n",
              "      <th></th>\n",
              "      <th>stay_id</th>\n",
              "      <th>starttime</th>\n",
              "      <th>endtime</th>\n",
              "      <th>ventilation_status</th>\n",
              "      <th>subject_id_x</th>\n",
              "      <th>hadm_id</th>\n",
              "      <th>stay_id_1</th>\n",
              "      <th>first_careunit</th>\n",
              "      <th>last_careunit</th>\n",
              "      <th>intime</th>\n",
              "      <th>outtime</th>\n",
              "      <th>los</th>\n",
              "      <th>subject_id_y</th>\n",
              "      <th>seq_num</th>\n",
              "      <th>icd_code</th>\n",
              "      <th>icd_version</th>\n",
              "      <th>icd_code_1</th>\n",
              "      <th>icd_version_1</th>\n",
              "      <th>long_title</th>\n",
              "      <th>_merge</th>\n",
              "    </tr>\n",
              "  </thead>\n",
              "  <tbody>\n",
              "    <tr>\n",
              "      <th>0</th>\n",
              "      <td>31004416</td>\n",
              "      <td>2120-02-09 11:00:00</td>\n",
              "      <td>2120-02-10 08:00:00</td>\n",
              "      <td>InvasiveVent</td>\n",
              "      <td>13390728</td>\n",
              "      <td>26350081</td>\n",
              "      <td>31004416</td>\n",
              "      <td>Medical/Surgical Intensive Care Unit (MICU/SICU)</td>\n",
              "      <td>Medical/Surgical Intensive Care Unit (MICU/SICU)</td>\n",
              "      <td>2120-02-06 20:55:28</td>\n",
              "      <td>2120-02-29 21:46:04</td>\n",
              "      <td>23.035139</td>\n",
              "      <td>13390728</td>\n",
              "      <td>8</td>\n",
              "      <td>J181</td>\n",
              "      <td>10</td>\n",
              "      <td>J181</td>\n",
              "      <td>10</td>\n",
              "      <td>Lobar pneumonia, unspecified organism</td>\n",
              "      <td>both</td>\n",
              "    </tr>\n",
              "    <tr>\n",
              "      <th>1</th>\n",
              "      <td>39008512</td>\n",
              "      <td>2136-09-14 21:00:00</td>\n",
              "      <td>2136-09-15 00:00:00</td>\n",
              "      <td>InvasiveVent</td>\n",
              "      <td>17521905</td>\n",
              "      <td>29059095</td>\n",
              "      <td>39008512</td>\n",
              "      <td>Medical/Surgical Intensive Care Unit (MICU/SICU)</td>\n",
              "      <td>Medical/Surgical Intensive Care Unit (MICU/SICU)</td>\n",
              "      <td>2136-09-02 15:09:45</td>\n",
              "      <td>2136-09-23 21:30:42</td>\n",
              "      <td>21.264549</td>\n",
              "      <td>17521905</td>\n",
              "      <td>8</td>\n",
              "      <td>J95851</td>\n",
              "      <td>10</td>\n",
              "      <td>J95851</td>\n",
              "      <td>10</td>\n",
              "      <td>Ventilator associated pneumonia</td>\n",
              "      <td>both</td>\n",
              "    </tr>\n",
              "    <tr>\n",
              "      <th>2</th>\n",
              "      <td>31813120</td>\n",
              "      <td>2151-05-25 14:00:00</td>\n",
              "      <td>2151-05-26 16:45:00</td>\n",
              "      <td>InvasiveVent</td>\n",
              "      <td>18081075</td>\n",
              "      <td>28510423</td>\n",
              "      <td>31813120</td>\n",
              "      <td>Medical Intensive Care Unit (MICU)</td>\n",
              "      <td>Medical Intensive Care Unit (MICU)</td>\n",
              "      <td>2151-05-25 14:13:00</td>\n",
              "      <td>2151-06-07 14:32:42</td>\n",
              "      <td>13.013681</td>\n",
              "      <td>18081075</td>\n",
              "      <td>1</td>\n",
              "      <td>J1000</td>\n",
              "      <td>10</td>\n",
              "      <td>J1000</td>\n",
              "      <td>10</td>\n",
              "      <td>Influenza due to other identified influenza vi...</td>\n",
              "      <td>both</td>\n",
              "    </tr>\n",
              "    <tr>\n",
              "      <th>3</th>\n",
              "      <td>32863488</td>\n",
              "      <td>2171-06-04 10:00:00</td>\n",
              "      <td>2171-06-11 13:00:00</td>\n",
              "      <td>InvasiveVent</td>\n",
              "      <td>17914766</td>\n",
              "      <td>24743178</td>\n",
              "      <td>32863488</td>\n",
              "      <td>Medical Intensive Care Unit (MICU)</td>\n",
              "      <td>Medical Intensive Care Unit (MICU)</td>\n",
              "      <td>2171-06-04 10:32:22</td>\n",
              "      <td>2171-06-17 22:30:20</td>\n",
              "      <td>13.498588</td>\n",
              "      <td>17914766</td>\n",
              "      <td>7</td>\n",
              "      <td>J95851</td>\n",
              "      <td>10</td>\n",
              "      <td>J95851</td>\n",
              "      <td>10</td>\n",
              "      <td>Ventilator associated pneumonia</td>\n",
              "      <td>both</td>\n",
              "    </tr>\n",
              "    <tr>\n",
              "      <th>4</th>\n",
              "      <td>35174400</td>\n",
              "      <td>2166-03-15 10:00:00</td>\n",
              "      <td>2166-03-19 07:00:00</td>\n",
              "      <td>InvasiveVent</td>\n",
              "      <td>13870531</td>\n",
              "      <td>23854031</td>\n",
              "      <td>35174400</td>\n",
              "      <td>Medical/Surgical Intensive Care Unit (MICU/SICU)</td>\n",
              "      <td>Medical/Surgical Intensive Care Unit (MICU/SICU)</td>\n",
              "      <td>2166-03-10 19:01:30</td>\n",
              "      <td>2166-03-29 18:25:59</td>\n",
              "      <td>18.975336</td>\n",
              "      <td>13870531</td>\n",
              "      <td>5</td>\n",
              "      <td>4870</td>\n",
              "      <td>9</td>\n",
              "      <td>4870</td>\n",
              "      <td>9</td>\n",
              "      <td>Influenza with pneumonia</td>\n",
              "      <td>both</td>\n",
              "    </tr>\n",
              "  </tbody>\n",
              "</table>\n",
              "</div>\n",
              "      <button class=\"colab-df-convert\" onclick=\"convertToInteractive('df-b28505e3-d576-472f-afc7-b93123e5771d')\"\n",
              "              title=\"Convert this dataframe to an interactive table.\"\n",
              "              style=\"display:none;\">\n",
              "        \n",
              "  <svg xmlns=\"http://www.w3.org/2000/svg\" height=\"24px\"viewBox=\"0 0 24 24\"\n",
              "       width=\"24px\">\n",
              "    <path d=\"M0 0h24v24H0V0z\" fill=\"none\"/>\n",
              "    <path d=\"M18.56 5.44l.94 2.06.94-2.06 2.06-.94-2.06-.94-.94-2.06-.94 2.06-2.06.94zm-11 1L8.5 8.5l.94-2.06 2.06-.94-2.06-.94L8.5 2.5l-.94 2.06-2.06.94zm10 10l.94 2.06.94-2.06 2.06-.94-2.06-.94-.94-2.06-.94 2.06-2.06.94z\"/><path d=\"M17.41 7.96l-1.37-1.37c-.4-.4-.92-.59-1.43-.59-.52 0-1.04.2-1.43.59L10.3 9.45l-7.72 7.72c-.78.78-.78 2.05 0 2.83L4 21.41c.39.39.9.59 1.41.59.51 0 1.02-.2 1.41-.59l7.78-7.78 2.81-2.81c.8-.78.8-2.07 0-2.86zM5.41 20L4 18.59l7.72-7.72 1.47 1.35L5.41 20z\"/>\n",
              "  </svg>\n",
              "      </button>\n",
              "      \n",
              "  <style>\n",
              "    .colab-df-container {\n",
              "      display:flex;\n",
              "      flex-wrap:wrap;\n",
              "      gap: 12px;\n",
              "    }\n",
              "\n",
              "    .colab-df-convert {\n",
              "      background-color: #E8F0FE;\n",
              "      border: none;\n",
              "      border-radius: 50%;\n",
              "      cursor: pointer;\n",
              "      display: none;\n",
              "      fill: #1967D2;\n",
              "      height: 32px;\n",
              "      padding: 0 0 0 0;\n",
              "      width: 32px;\n",
              "    }\n",
              "\n",
              "    .colab-df-convert:hover {\n",
              "      background-color: #E2EBFA;\n",
              "      box-shadow: 0px 1px 2px rgba(60, 64, 67, 0.3), 0px 1px 3px 1px rgba(60, 64, 67, 0.15);\n",
              "      fill: #174EA6;\n",
              "    }\n",
              "\n",
              "    [theme=dark] .colab-df-convert {\n",
              "      background-color: #3B4455;\n",
              "      fill: #D2E3FC;\n",
              "    }\n",
              "\n",
              "    [theme=dark] .colab-df-convert:hover {\n",
              "      background-color: #434B5C;\n",
              "      box-shadow: 0px 1px 3px 1px rgba(0, 0, 0, 0.15);\n",
              "      filter: drop-shadow(0px 1px 2px rgba(0, 0, 0, 0.3));\n",
              "      fill: #FFFFFF;\n",
              "    }\n",
              "  </style>\n",
              "\n",
              "      <script>\n",
              "        const buttonEl =\n",
              "          document.querySelector('#df-b28505e3-d576-472f-afc7-b93123e5771d button.colab-df-convert');\n",
              "        buttonEl.style.display =\n",
              "          google.colab.kernel.accessAllowed ? 'block' : 'none';\n",
              "\n",
              "        async function convertToInteractive(key) {\n",
              "          const element = document.querySelector('#df-b28505e3-d576-472f-afc7-b93123e5771d');\n",
              "          const dataTable =\n",
              "            await google.colab.kernel.invokeFunction('convertToInteractive',\n",
              "                                                     [key], {});\n",
              "          if (!dataTable) return;\n",
              "\n",
              "          const docLinkHtml = 'Like what you see? Visit the ' +\n",
              "            '<a target=\"_blank\" href=https://colab.research.google.com/notebooks/data_table.ipynb>data table notebook</a>'\n",
              "            + ' to learn more about interactive tables.';\n",
              "          element.innerHTML = '';\n",
              "          dataTable['output_type'] = 'display_data';\n",
              "          await google.colab.output.renderOutput(dataTable, element);\n",
              "          const docLink = document.createElement('div');\n",
              "          docLink.innerHTML = docLinkHtml;\n",
              "          element.appendChild(docLink);\n",
              "        }\n",
              "      </script>\n",
              "    </div>\n",
              "  </div>\n",
              "  "
            ]
          },
          "metadata": {},
          "execution_count": 51
        }
      ]
    },
    {
      "cell_type": "code",
      "source": [
        "micuventpneumonia.shape"
      ],
      "metadata": {
        "colab": {
          "base_uri": "https://localhost:8080/"
        },
        "id": "A97A6F-5e3S_",
        "outputId": "46548db2-6152-4136-e00f-854bc93e4ac5"
      },
      "execution_count": 52,
      "outputs": [
        {
          "output_type": "execute_result",
          "data": {
            "text/plain": [
              "(1284, 20)"
            ]
          },
          "metadata": {},
          "execution_count": 52
        }
      ]
    },
    {
      "cell_type": "code",
      "source": [
        "micuventpneumonia.to_csv(\"micuventpneumonia3-20-22.csv\")"
      ],
      "metadata": {
        "id": "vNQVWhROe3Vv"
      },
      "execution_count": 53,
      "outputs": []
    },
    {
      "cell_type": "code",
      "source": [
        ""
      ],
      "metadata": {
        "id": "AgE3VWxEe3Y5"
      },
      "execution_count": null,
      "outputs": []
    },
    {
      "cell_type": "markdown",
      "source": [
        "# Patients who had respiratory samples\n"
      ],
      "metadata": {
        "id": "7UyegumZjKis"
      }
    },
    {
      "cell_type": "code",
      "source": [
        "%%bigquery respsamples\n",
        "\n",
        "select hadm_id\n",
        "from `physionet-data.mimic_hosp.microbiologyevents`\n",
        "where spec_type_desc in \n",
        "(\"BRONCHOALVEOLAR LAVAGE\",\n",
        "\"Mini-BAL\",\n",
        "\"TRACHEAL ASPIRATE\",\n",
        "\"BRONCHIAL WASHINGS\",\n",
        "\"Rapid Respiratory Viral Screen & Culture\"\n",
        ")\n",
        "    AND hadm_id is not NULL\n",
        "group by hadm_id"
      ],
      "metadata": {
        "id": "nv78S5LphpRE"
      },
      "execution_count": 54,
      "outputs": []
    },
    {
      "cell_type": "code",
      "source": [
        "respsamples.shape"
      ],
      "metadata": {
        "colab": {
          "base_uri": "https://localhost:8080/"
        },
        "id": "hnH3SRCdhpTv",
        "outputId": "4872794a-b3ca-48f1-b203-ac22dd21ba32"
      },
      "execution_count": 56,
      "outputs": [
        {
          "output_type": "execute_result",
          "data": {
            "text/plain": [
              "(10603, 1)"
            ]
          },
          "metadata": {},
          "execution_count": 56
        }
      ]
    },
    {
      "cell_type": "code",
      "source": [
        "#micu vent + samples\n",
        "micuventsample = vented_unique.merge(respsamples, how='inner', on='hadm_id', indicator=True)"
      ],
      "metadata": {
        "id": "Ayi1XyudjSKK"
      },
      "execution_count": 62,
      "outputs": []
    },
    {
      "cell_type": "code",
      "source": [
        "micuventsample.shape"
      ],
      "metadata": {
        "colab": {
          "base_uri": "https://localhost:8080/"
        },
        "id": "d5FuOC_yjSOM",
        "outputId": "514942d1-406e-4e6c-dcfd-eaf4f22a1b3a"
      },
      "execution_count": 63,
      "outputs": [
        {
          "output_type": "execute_result",
          "data": {
            "text/plain": [
              "(1859, 13)"
            ]
          },
          "metadata": {},
          "execution_count": 63
        }
      ]
    },
    {
      "cell_type": "code",
      "source": [
        "micuventsample.head()"
      ],
      "metadata": {
        "colab": {
          "base_uri": "https://localhost:8080/",
          "height": 478
        },
        "id": "9ZBcHBIUjSTQ",
        "outputId": "b10c0699-c697-4cbb-d177-7821c56de4e9"
      },
      "execution_count": 64,
      "outputs": [
        {
          "output_type": "execute_result",
          "data": {
            "text/plain": [
              "    stay_id           starttime             endtime ventilation_status  \\\n",
              "0  31004416 2120-02-09 11:00:00 2120-02-10 08:00:00       InvasiveVent   \n",
              "1  39663616 2117-01-02 20:00:00 2117-01-04 12:00:00       InvasiveVent   \n",
              "2  39008512 2136-09-14 21:00:00 2136-09-15 00:00:00       InvasiveVent   \n",
              "3  30950144 2189-07-05 22:00:00 2189-07-07 08:00:00       InvasiveVent   \n",
              "4  31813120 2151-05-25 14:00:00 2151-05-26 16:45:00       InvasiveVent   \n",
              "\n",
              "   subject_id   hadm_id  stay_id_1  \\\n",
              "0    13390728  26350081   31004416   \n",
              "1    11051942  26447909   39663616   \n",
              "2    17521905  29059095   39008512   \n",
              "3    13387130  27400251   30950144   \n",
              "4    18081075  28510423   31813120   \n",
              "\n",
              "                                     first_careunit  \\\n",
              "0  Medical/Surgical Intensive Care Unit (MICU/SICU)   \n",
              "1                Medical Intensive Care Unit (MICU)   \n",
              "2  Medical/Surgical Intensive Care Unit (MICU/SICU)   \n",
              "3                Medical Intensive Care Unit (MICU)   \n",
              "4                Medical Intensive Care Unit (MICU)   \n",
              "\n",
              "                                      last_careunit              intime  \\\n",
              "0  Medical/Surgical Intensive Care Unit (MICU/SICU) 2120-02-06 20:55:28   \n",
              "1                Medical Intensive Care Unit (MICU) 2116-12-21 21:26:00   \n",
              "2  Medical/Surgical Intensive Care Unit (MICU/SICU) 2136-09-02 15:09:45   \n",
              "3                Medical Intensive Care Unit (MICU) 2189-07-05 21:23:00   \n",
              "4                Medical Intensive Care Unit (MICU) 2151-05-25 14:13:00   \n",
              "\n",
              "              outtime        los _merge  \n",
              "0 2120-02-29 21:46:04  23.035139   both  \n",
              "1 2117-01-07 19:52:12  16.934861   both  \n",
              "2 2136-09-23 21:30:42  21.264549   both  \n",
              "3 2189-07-07 14:14:13   1.702234   both  \n",
              "4 2151-06-07 14:32:42  13.013681   both  "
            ],
            "text/html": [
              "\n",
              "  <div id=\"df-a0b42c3f-56f6-4711-aec8-d75a2d5cd036\">\n",
              "    <div class=\"colab-df-container\">\n",
              "      <div>\n",
              "<style scoped>\n",
              "    .dataframe tbody tr th:only-of-type {\n",
              "        vertical-align: middle;\n",
              "    }\n",
              "\n",
              "    .dataframe tbody tr th {\n",
              "        vertical-align: top;\n",
              "    }\n",
              "\n",
              "    .dataframe thead th {\n",
              "        text-align: right;\n",
              "    }\n",
              "</style>\n",
              "<table border=\"1\" class=\"dataframe\">\n",
              "  <thead>\n",
              "    <tr style=\"text-align: right;\">\n",
              "      <th></th>\n",
              "      <th>stay_id</th>\n",
              "      <th>starttime</th>\n",
              "      <th>endtime</th>\n",
              "      <th>ventilation_status</th>\n",
              "      <th>subject_id</th>\n",
              "      <th>hadm_id</th>\n",
              "      <th>stay_id_1</th>\n",
              "      <th>first_careunit</th>\n",
              "      <th>last_careunit</th>\n",
              "      <th>intime</th>\n",
              "      <th>outtime</th>\n",
              "      <th>los</th>\n",
              "      <th>_merge</th>\n",
              "    </tr>\n",
              "  </thead>\n",
              "  <tbody>\n",
              "    <tr>\n",
              "      <th>0</th>\n",
              "      <td>31004416</td>\n",
              "      <td>2120-02-09 11:00:00</td>\n",
              "      <td>2120-02-10 08:00:00</td>\n",
              "      <td>InvasiveVent</td>\n",
              "      <td>13390728</td>\n",
              "      <td>26350081</td>\n",
              "      <td>31004416</td>\n",
              "      <td>Medical/Surgical Intensive Care Unit (MICU/SICU)</td>\n",
              "      <td>Medical/Surgical Intensive Care Unit (MICU/SICU)</td>\n",
              "      <td>2120-02-06 20:55:28</td>\n",
              "      <td>2120-02-29 21:46:04</td>\n",
              "      <td>23.035139</td>\n",
              "      <td>both</td>\n",
              "    </tr>\n",
              "    <tr>\n",
              "      <th>1</th>\n",
              "      <td>39663616</td>\n",
              "      <td>2117-01-02 20:00:00</td>\n",
              "      <td>2117-01-04 12:00:00</td>\n",
              "      <td>InvasiveVent</td>\n",
              "      <td>11051942</td>\n",
              "      <td>26447909</td>\n",
              "      <td>39663616</td>\n",
              "      <td>Medical Intensive Care Unit (MICU)</td>\n",
              "      <td>Medical Intensive Care Unit (MICU)</td>\n",
              "      <td>2116-12-21 21:26:00</td>\n",
              "      <td>2117-01-07 19:52:12</td>\n",
              "      <td>16.934861</td>\n",
              "      <td>both</td>\n",
              "    </tr>\n",
              "    <tr>\n",
              "      <th>2</th>\n",
              "      <td>39008512</td>\n",
              "      <td>2136-09-14 21:00:00</td>\n",
              "      <td>2136-09-15 00:00:00</td>\n",
              "      <td>InvasiveVent</td>\n",
              "      <td>17521905</td>\n",
              "      <td>29059095</td>\n",
              "      <td>39008512</td>\n",
              "      <td>Medical/Surgical Intensive Care Unit (MICU/SICU)</td>\n",
              "      <td>Medical/Surgical Intensive Care Unit (MICU/SICU)</td>\n",
              "      <td>2136-09-02 15:09:45</td>\n",
              "      <td>2136-09-23 21:30:42</td>\n",
              "      <td>21.264549</td>\n",
              "      <td>both</td>\n",
              "    </tr>\n",
              "    <tr>\n",
              "      <th>3</th>\n",
              "      <td>30950144</td>\n",
              "      <td>2189-07-05 22:00:00</td>\n",
              "      <td>2189-07-07 08:00:00</td>\n",
              "      <td>InvasiveVent</td>\n",
              "      <td>13387130</td>\n",
              "      <td>27400251</td>\n",
              "      <td>30950144</td>\n",
              "      <td>Medical Intensive Care Unit (MICU)</td>\n",
              "      <td>Medical Intensive Care Unit (MICU)</td>\n",
              "      <td>2189-07-05 21:23:00</td>\n",
              "      <td>2189-07-07 14:14:13</td>\n",
              "      <td>1.702234</td>\n",
              "      <td>both</td>\n",
              "    </tr>\n",
              "    <tr>\n",
              "      <th>4</th>\n",
              "      <td>31813120</td>\n",
              "      <td>2151-05-25 14:00:00</td>\n",
              "      <td>2151-05-26 16:45:00</td>\n",
              "      <td>InvasiveVent</td>\n",
              "      <td>18081075</td>\n",
              "      <td>28510423</td>\n",
              "      <td>31813120</td>\n",
              "      <td>Medical Intensive Care Unit (MICU)</td>\n",
              "      <td>Medical Intensive Care Unit (MICU)</td>\n",
              "      <td>2151-05-25 14:13:00</td>\n",
              "      <td>2151-06-07 14:32:42</td>\n",
              "      <td>13.013681</td>\n",
              "      <td>both</td>\n",
              "    </tr>\n",
              "  </tbody>\n",
              "</table>\n",
              "</div>\n",
              "      <button class=\"colab-df-convert\" onclick=\"convertToInteractive('df-a0b42c3f-56f6-4711-aec8-d75a2d5cd036')\"\n",
              "              title=\"Convert this dataframe to an interactive table.\"\n",
              "              style=\"display:none;\">\n",
              "        \n",
              "  <svg xmlns=\"http://www.w3.org/2000/svg\" height=\"24px\"viewBox=\"0 0 24 24\"\n",
              "       width=\"24px\">\n",
              "    <path d=\"M0 0h24v24H0V0z\" fill=\"none\"/>\n",
              "    <path d=\"M18.56 5.44l.94 2.06.94-2.06 2.06-.94-2.06-.94-.94-2.06-.94 2.06-2.06.94zm-11 1L8.5 8.5l.94-2.06 2.06-.94-2.06-.94L8.5 2.5l-.94 2.06-2.06.94zm10 10l.94 2.06.94-2.06 2.06-.94-2.06-.94-.94-2.06-.94 2.06-2.06.94z\"/><path d=\"M17.41 7.96l-1.37-1.37c-.4-.4-.92-.59-1.43-.59-.52 0-1.04.2-1.43.59L10.3 9.45l-7.72 7.72c-.78.78-.78 2.05 0 2.83L4 21.41c.39.39.9.59 1.41.59.51 0 1.02-.2 1.41-.59l7.78-7.78 2.81-2.81c.8-.78.8-2.07 0-2.86zM5.41 20L4 18.59l7.72-7.72 1.47 1.35L5.41 20z\"/>\n",
              "  </svg>\n",
              "      </button>\n",
              "      \n",
              "  <style>\n",
              "    .colab-df-container {\n",
              "      display:flex;\n",
              "      flex-wrap:wrap;\n",
              "      gap: 12px;\n",
              "    }\n",
              "\n",
              "    .colab-df-convert {\n",
              "      background-color: #E8F0FE;\n",
              "      border: none;\n",
              "      border-radius: 50%;\n",
              "      cursor: pointer;\n",
              "      display: none;\n",
              "      fill: #1967D2;\n",
              "      height: 32px;\n",
              "      padding: 0 0 0 0;\n",
              "      width: 32px;\n",
              "    }\n",
              "\n",
              "    .colab-df-convert:hover {\n",
              "      background-color: #E2EBFA;\n",
              "      box-shadow: 0px 1px 2px rgba(60, 64, 67, 0.3), 0px 1px 3px 1px rgba(60, 64, 67, 0.15);\n",
              "      fill: #174EA6;\n",
              "    }\n",
              "\n",
              "    [theme=dark] .colab-df-convert {\n",
              "      background-color: #3B4455;\n",
              "      fill: #D2E3FC;\n",
              "    }\n",
              "\n",
              "    [theme=dark] .colab-df-convert:hover {\n",
              "      background-color: #434B5C;\n",
              "      box-shadow: 0px 1px 3px 1px rgba(0, 0, 0, 0.15);\n",
              "      filter: drop-shadow(0px 1px 2px rgba(0, 0, 0, 0.3));\n",
              "      fill: #FFFFFF;\n",
              "    }\n",
              "  </style>\n",
              "\n",
              "      <script>\n",
              "        const buttonEl =\n",
              "          document.querySelector('#df-a0b42c3f-56f6-4711-aec8-d75a2d5cd036 button.colab-df-convert');\n",
              "        buttonEl.style.display =\n",
              "          google.colab.kernel.accessAllowed ? 'block' : 'none';\n",
              "\n",
              "        async function convertToInteractive(key) {\n",
              "          const element = document.querySelector('#df-a0b42c3f-56f6-4711-aec8-d75a2d5cd036');\n",
              "          const dataTable =\n",
              "            await google.colab.kernel.invokeFunction('convertToInteractive',\n",
              "                                                     [key], {});\n",
              "          if (!dataTable) return;\n",
              "\n",
              "          const docLinkHtml = 'Like what you see? Visit the ' +\n",
              "            '<a target=\"_blank\" href=https://colab.research.google.com/notebooks/data_table.ipynb>data table notebook</a>'\n",
              "            + ' to learn more about interactive tables.';\n",
              "          element.innerHTML = '';\n",
              "          dataTable['output_type'] = 'display_data';\n",
              "          await google.colab.output.renderOutput(dataTable, element);\n",
              "          const docLink = document.createElement('div');\n",
              "          docLink.innerHTML = docLinkHtml;\n",
              "          element.appendChild(docLink);\n",
              "        }\n",
              "      </script>\n",
              "    </div>\n",
              "  </div>\n",
              "  "
            ]
          },
          "metadata": {},
          "execution_count": 64
        }
      ]
    },
    {
      "cell_type": "code",
      "source": [
        ""
      ],
      "metadata": {
        "id": "4miYv1x9hpWg"
      },
      "execution_count": null,
      "outputs": []
    },
    {
      "cell_type": "markdown",
      "source": [
        "# MICU, vented, pneumonia dx, resp sample\n"
      ],
      "metadata": {
        "id": "aI3cdou3kPvE"
      }
    },
    {
      "cell_type": "code",
      "source": [
        "\n",
        "micuventpneumoniasample = micuventpneumonia.merge(respsamples, how='inner', on='hadm_id')"
      ],
      "metadata": {
        "id": "G_TG71ADkUb-"
      },
      "execution_count": 65,
      "outputs": []
    },
    {
      "cell_type": "code",
      "source": [
        "micuventpneumoniasample.shape"
      ],
      "metadata": {
        "colab": {
          "base_uri": "https://localhost:8080/"
        },
        "id": "ZBgL_31ykcZS",
        "outputId": "3c8365be-b5bc-4f4b-b31d-a24f2e2cd5e0"
      },
      "execution_count": 67,
      "outputs": [
        {
          "output_type": "execute_result",
          "data": {
            "text/plain": [
              "(622, 20)"
            ]
          },
          "metadata": {},
          "execution_count": 67
        }
      ]
    },
    {
      "cell_type": "code",
      "source": [
        "len(micuventpneumoniasample.stay_id.unique())"
      ],
      "metadata": {
        "colab": {
          "base_uri": "https://localhost:8080/"
        },
        "id": "EFdCOkjJlCkD",
        "outputId": "d46faa80-2c3e-4aad-b5c3-76edbaeca749"
      },
      "execution_count": 70,
      "outputs": [
        {
          "output_type": "execute_result",
          "data": {
            "text/plain": [
              "622"
            ]
          },
          "metadata": {},
          "execution_count": 70
        }
      ]
    }
  ],
  "metadata": {
    "colab": {
      "collapsed_sections": [],
      "name": "c14-combine_mimic_files3-20-22",
      "provenance": [],
      "toc_visible": true,
      "include_colab_link": true
    },
    "kernelspec": {
      "display_name": "Python 3",
      "language": "python",
      "name": "python3"
    },
    "language_info": {
      "codemirror_mode": {
        "name": "ipython",
        "version": 3
      },
      "file_extension": ".py",
      "mimetype": "text/x-python",
      "name": "python",
      "nbconvert_exporter": "python",
      "pygments_lexer": "ipython3",
      "version": "3.7.4"
    }
  },
  "nbformat": 4,
  "nbformat_minor": 0
}